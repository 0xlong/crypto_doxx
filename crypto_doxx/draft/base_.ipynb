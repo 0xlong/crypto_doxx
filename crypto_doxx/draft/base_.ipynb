{
 "cells": [
  {
   "cell_type": "code",
   "execution_count": 93,
   "metadata": {},
   "outputs": [],
   "source": [
    "import pandas as pd\n",
    "import requests\n",
    "from datetime import datetime\n",
    "import time\n",
    "from bs4 import BeautifulSoup"
   ]
  },
  {
   "cell_type": "code",
   "execution_count": 2,
   "metadata": {},
   "outputs": [
    {
     "data": {
      "text/plain": [
       "'16797293'"
      ]
     },
     "execution_count": 2,
     "metadata": {},
     "output_type": "execute_result"
    }
   ],
   "source": [
    "def get_blocknumber_by_timestamp(date_string):\n",
    "    \n",
    "    # Function retrieving block number by date in format YYY    \n",
    "    \n",
    "    # convert date string to timestamp\n",
    "    date_object = datetime.strptime(date_string, '%Y-%m-%d %H:%M')\n",
    "    timestamp = int(time.mktime(date_object.timetuple()))\n",
    "    \n",
    "    # Find closes block to give timestamp (date_string)\n",
    "    # Set the API endpoint\n",
    "    url = 'https://api.etherscan.io/api'\n",
    "\n",
    "    # Set the API parameters\n",
    "    params = {\n",
    "        'module': 'block',\n",
    "        'action': 'getblocknobytime',\n",
    "        'timestamp': timestamp,\n",
    "        'closest': 'before', # the closest available block to the provided timestamp, either BEFORE or AFTER - https://docs.etherscan.io/api-endpoints/blocks#get-block-number-by-timestamp\n",
    "        'apikey': 'H7X31IMU7EMEEBDE4633U8F73SNMYDH5AZ'\n",
    "    }\n",
    "\n",
    "    # Send a GET request to the API endpoint with the defined parameters\n",
    "    response = requests.get(url, params=params)\n",
    "\n",
    "    # Parse the response JSON data\n",
    "    data = response.json()['result']\n",
    "\n",
    "    return data\n",
    "\n",
    "get_blocknumber_by_timestamp(\"2023-03-10 12:00\")"
   ]
  },
  {
   "cell_type": "code",
   "execution_count": 34,
   "metadata": {},
   "outputs": [],
   "source": [
    "# Creating dictionary from etherscan labels\n",
    "eth_labels = pd.read_csv('eth_addresses.csv')\n",
    "\n",
    "address_dict = {}\n",
    "for index, row in eth_labels.iterrows():\n",
    "    #address_dict[row['Address']] = (str(row['Account Type'])+' -'+str(row['Name']))\n",
    "    address_dict[row['Address']] = (row['Account Type'])"
   ]
  },
  {
   "cell_type": "code",
   "execution_count": 165,
   "metadata": {},
   "outputs": [
    {
     "data": {
      "text/plain": [
       "'1inch'"
      ]
     },
     "execution_count": 165,
     "metadata": {},
     "output_type": "execute_result"
    }
   ],
   "source": [
    "def search_for_address_label(address):\n",
    "\n",
    "    url = f'https://etherscan.io/address/{address}'\n",
    "\n",
    "    headers = {'User-Agent': 'Mozilla/5.0 (Windows NT 10.0; Win64; x64) AppleWebKit/537.36 (KHTML, like Gecko) Chrome/58.0.3029.110 Safari/537.36'}\n",
    "\n",
    "    response = requests.get(url, headers=headers)\n",
    "\n",
    "    soup = BeautifulSoup(response.content, 'html.parser')\n",
    "\n",
    "    label_tag = soup.find_all('a', class_='badge bg-white hover:bg-secondary border border-dark dark:border-white border-opacity-15 text-dark text-nowrap fw-medium transition-all rounded-pill py-1.5 px-2')\n",
    "\n",
    "    public_tag = soup.find_all('span', title='Public Name Tag (viewable by anyone)')\n",
    "    \n",
    "    if label_tag != []:\n",
    "        label_tag = label_tag[0].text.strip()\n",
    "    \n",
    "    if public_tag != []:\n",
    "        public_tag = public_tag[0].text.strip()\n",
    "    \n",
    "    return(label_tag)\n",
    "        \n",
    "search_for_address_label('0xa88800cd213da5ae406ce248380802bd53b47647')"
   ]
  },
  {
   "cell_type": "code",
   "execution_count": 192,
   "metadata": {},
   "outputs": [],
   "source": [
    "def get_token_transactions_by_dates(token_address, start_date, end_date):\n",
    "\n",
    "    # Set the API endpoint\n",
    "    url = 'https://api.etherscan.io/api'\n",
    "\n",
    "    token_address = '0xC0c293ce456fF0ED870ADd98a0828Dd4d2903DBF'\n",
    "\n",
    "    # Set the API parameters\n",
    "    params = {\n",
    "        'module': 'account',\n",
    "        'action': 'tokentx',\n",
    "        'contractaddress': token_address,\n",
    "        'startblock': start_date,\n",
    "        'endblock': end_date,\n",
    "        'sort':'desc',\n",
    "        'apikey': 'H7X31IMU7EMEEBDE4633U8F73SNMYDH5AZ'\n",
    "    }\n",
    "\n",
    "    # Send a GET request to the API endpoint with the defined parameters\n",
    "    response = requests.get(url, params=params)\n",
    "\n",
    "    # Parse the response JSON data\n",
    "    data = response.json()\n",
    "\n",
    "    # Extract the transaction data from the response\n",
    "    transactions = data['result']\n",
    "    \n",
    "    unique_token_receivers = list(set([address['to'] for address in transactions]))\n",
    "\n",
    "    return [transactions,unique_token_receivers]"
   ]
  },
  {
   "cell_type": "code",
   "execution_count": 193,
   "metadata": {},
   "outputs": [],
   "source": [
    "# Process for unique receivers of a token for a given date\n",
    "\n",
    "token_address = '0xC0c293ce456fF0ED870ADd98a0828Dd4d2903DBF'\n",
    "start_date = \"2023-03-21 07:00\"\n",
    "end_date = \"2023-03-21 10:30\"\n",
    "\n",
    "token_info = get_token_transactions_by_dates(token_address, start_date, end_date)\n",
    "token_transacations = token_info[0]\n",
    "token_unique_receivers = token_info[1]"
   ]
  },
  {
   "cell_type": "code",
   "execution_count": 208,
   "metadata": {},
   "outputs": [
    {
     "name": "stdout",
     "output_type": "stream",
     "text": [
      "0xC0c293ce456fF0ED870ADd98a0828Dd4d2903DBF  2023-03-21 07:00  2023-03-21 10:30\n",
      "0xC0c293ce456fF0ED870ADd98a0828Dd4d2903DBF  2023-03-20 07:00  2023-03-20 10:30\n",
      "0xC0c293ce456fF0ED870ADd98a0828Dd4d2903DBF  2023-03-11 07:00  2023-03-11 10:30\n",
      "0xC0c293ce456fF0ED870ADd98a0828Dd4d2903DBF  2023-03-21 07:00  2023-03-21 10:30\n",
      "0xC0c293ce456fF0ED870ADd98a0828Dd4d2903DBF  2023-03-21 07:00  2023-03-21 10:30\n",
      "0xC0c293ce456fF0ED870ADd98a0828Dd4d2903DBF  2023-03-21 07:00  2023-03-21 10:30\n"
     ]
    }
   ],
   "source": [
    "input_data = pd.read_csv(\"input.csv\")\n",
    "\n",
    "for index, row in input_data.iterrows():\n",
    "    get_token_transactions_by_dates(row[0], row[1], row[2])[1]"
   ]
  },
  {
   "cell_type": "code",
   "execution_count": 185,
   "metadata": {},
   "outputs": [],
   "source": [
    "# Collect labels from addresses\n",
    "addies_labels_list = {}\n",
    "\n",
    "for addie in unique_token_receivers[:20]:\n",
    "    addies_labels_list[addie] = search_for_address_label(addie)"
   ]
  },
  {
   "cell_type": "code",
   "execution_count": 186,
   "metadata": {},
   "outputs": [],
   "source": [
    "unique_token_receivers_replaced = list(unique_token_receivers)\n",
    "\n",
    "for i in range(len(unique_token_receivers_replaced)):\n",
    "    if unique_token_receivers_replaced[i] in addies_labels_list:\n",
    "        unique_token_receivers_replaced[i] = addies_labels_list[unique_token_receivers_replaced[i]]"
   ]
  }
 ],
 "metadata": {
  "kernelspec": {
   "display_name": "base",
   "language": "python",
   "name": "python3"
  },
  "language_info": {
   "codemirror_mode": {
    "name": "ipython",
    "version": 3
   },
   "file_extension": ".py",
   "mimetype": "text/x-python",
   "name": "python",
   "nbconvert_exporter": "python",
   "pygments_lexer": "ipython3",
   "version": "3.9.12"
  },
  "orig_nbformat": 4
 },
 "nbformat": 4,
 "nbformat_minor": 2
}
