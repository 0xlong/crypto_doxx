{
 "cells": [
  {
   "cell_type": "code",
   "execution_count": 8,
   "metadata": {},
   "outputs": [],
   "source": [
    "import tweepy\n",
    "import re\n",
    "import csv\n",
    "import pandas as pd\n",
    "import matplotlib.pyplot as plt\n",
    "import requests\n",
    "import json\n",
    "from datetime import datetime\n",
    "import time"
   ]
  },
  {
   "cell_type": "code",
   "execution_count": null,
   "metadata": {},
   "outputs": [],
   "source": []
  },
  {
   "cell_type": "code",
   "execution_count": 13,
   "metadata": {},
   "outputs": [
    {
     "data": {
      "text/plain": [
       "'16797293'"
      ]
     },
     "execution_count": 13,
     "metadata": {},
     "output_type": "execute_result"
    }
   ],
   "source": [
    "def get_blocknumber_by_timestamp(date_string):\n",
    "    \n",
    "    # Function retrieving block number by date in format YYY    \n",
    "    \n",
    "    # convert date string to timestamp\n",
    "    date_object = datetime.strptime(date_string, '%Y-%m-%d %H:%M')\n",
    "    timestamp = int(time.mktime(date_object.timetuple()))\n",
    "    \n",
    "    # Find closes block to give timestamp (date_string)\n",
    "    # Set the API endpoint\n",
    "    url = 'https://api.etherscan.io/api'\n",
    "\n",
    "    # Set the API parameters\n",
    "    params = {\n",
    "        'module': 'block',\n",
    "        'action': 'getblocknobytime',\n",
    "        'timestamp': timestamp,\n",
    "        'closest': 'before', # the closest available block to the provided timestamp, either BEFORE or AFTER - https://docs.etherscan.io/api-endpoints/blocks#get-block-number-by-timestamp\n",
    "        'apikey': 'H7X31IMU7EMEEBDE4633U8F73SNMYDH5AZ'\n",
    "    }\n",
    "\n",
    "    # Send a GET request to the API endpoint with the defined parameters\n",
    "    response = requests.get(url, params=params)\n",
    "\n",
    "    # Parse the response JSON data\n",
    "    data = response.json()['result']\n",
    "\n",
    "    return data\n",
    "\n",
    "get_blocknumber_by_timestamp(\"2023-03-10 12:00\")"
   ]
  },
  {
   "cell_type": "code",
   "execution_count": null,
   "metadata": {},
   "outputs": [],
   "source": [
    "def get_token_transactions_by_dates(token_address, start_date, end_date):\n",
    "    \n",
    "    # Set the API endpoint\n",
    "    url = 'https://api.etherscan.io/api'\n",
    "    \n",
    "    # Set the API parameters\n",
    "    params = {\n",
    "        'module': 'account',\n",
    "        'action': 'txlist',\n",
    "        'address': token_address,\n",
    "        'startblock': get_blocknumber_by_timestamp(start_date),\n",
    "        'endblock': get_blocknumber_by_timestamp(end_date),\n",
    "        'sort': 'desc',\n",
    "        'apikey': 'H7X31IMU7EMEEBDE4633U8F73SNMYDH5AZ'\n",
    "    }\n",
    "    \n",
    "    # Send a GET request to the API endpoint with the defined parameters\n",
    "    response = requests.get(url, params=params)\n",
    "\n",
    "    # Parse the response JSON data\n",
    "    data = response.json()\n",
    "\n",
    "    # Extract the transaction data from the response\n",
    "    transactions = data['result']\n",
    "    \n",
    "    return transactions\n",
    "\n",
    "x = get_token_transactions_by_dates(\"0xb7DcaBe6DA1194507522b553950cCB5A8060A439\",\"2021-12-09 12:36\",\"2023-03-12 22:40\")"
   ]
  },
  {
   "cell_type": "code",
   "execution_count": 23,
   "metadata": {},
   "outputs": [
    {
     "data": {
      "text/html": [
       "<div>\n",
       "<style scoped>\n",
       "    .dataframe tbody tr th:only-of-type {\n",
       "        vertical-align: middle;\n",
       "    }\n",
       "\n",
       "    .dataframe tbody tr th {\n",
       "        vertical-align: top;\n",
       "    }\n",
       "\n",
       "    .dataframe thead th {\n",
       "        text-align: right;\n",
       "    }\n",
       "</style>\n",
       "<table border=\"1\" class=\"dataframe\">\n",
       "  <thead>\n",
       "    <tr style=\"text-align: right;\">\n",
       "      <th></th>\n",
       "      <th>blockNumber</th>\n",
       "      <th>timeStamp</th>\n",
       "      <th>from</th>\n",
       "      <th>to</th>\n",
       "      <th>value</th>\n",
       "    </tr>\n",
       "  </thead>\n",
       "  <tbody>\n",
       "    <tr>\n",
       "      <th>0</th>\n",
       "      <td>16714175</td>\n",
       "      <td>1677435959</td>\n",
       "      <td>0xb7dcabe6da1194507522b553950ccb5a8060a439</td>\n",
       "      <td>0xd4307e0acd12cf46fd6cf93bc264f5d5d1598792</td>\n",
       "      <td>777000000000000</td>\n",
       "    </tr>\n",
       "    <tr>\n",
       "      <th>1</th>\n",
       "      <td>15001552</td>\n",
       "      <td>1655803025</td>\n",
       "      <td>0xb7dcabe6da1194507522b553950ccb5a8060a439</td>\n",
       "      <td>0xe592427a0aece92de3edee1f18e0157c05861564</td>\n",
       "      <td>0</td>\n",
       "    </tr>\n",
       "    <tr>\n",
       "      <th>2</th>\n",
       "      <td>15001538</td>\n",
       "      <td>1655802849</td>\n",
       "      <td>0xb7dcabe6da1194507522b553950ccb5a8060a439</td>\n",
       "      <td>0xe592427a0aece92de3edee1f18e0157c05861564</td>\n",
       "      <td>0</td>\n",
       "    </tr>\n",
       "    <tr>\n",
       "      <th>3</th>\n",
       "      <td>14088465</td>\n",
       "      <td>1643297137</td>\n",
       "      <td>0xb7dcabe6da1194507522b553950ccb5a8060a439</td>\n",
       "      <td>0xdac17f958d2ee523a2206206994597c13d831ec7</td>\n",
       "      <td>0</td>\n",
       "    </tr>\n",
       "    <tr>\n",
       "      <th>4</th>\n",
       "      <td>14081397</td>\n",
       "      <td>1643201999</td>\n",
       "      <td>0xb7dcabe6da1194507522b553950ccb5a8060a439</td>\n",
       "      <td>0xb8901acb165ed027e32754e0ffe830802919727f</td>\n",
       "      <td>2005000000000000000</td>\n",
       "    </tr>\n",
       "  </tbody>\n",
       "</table>\n",
       "</div>"
      ],
      "text/plain": [
       "  blockNumber   timeStamp                                        from  \\\n",
       "0    16714175  1677435959  0xb7dcabe6da1194507522b553950ccb5a8060a439   \n",
       "1    15001552  1655803025  0xb7dcabe6da1194507522b553950ccb5a8060a439   \n",
       "2    15001538  1655802849  0xb7dcabe6da1194507522b553950ccb5a8060a439   \n",
       "3    14088465  1643297137  0xb7dcabe6da1194507522b553950ccb5a8060a439   \n",
       "4    14081397  1643201999  0xb7dcabe6da1194507522b553950ccb5a8060a439   \n",
       "\n",
       "                                           to                value  \n",
       "0  0xd4307e0acd12cf46fd6cf93bc264f5d5d1598792      777000000000000  \n",
       "1  0xe592427a0aece92de3edee1f18e0157c05861564                    0  \n",
       "2  0xe592427a0aece92de3edee1f18e0157c05861564                    0  \n",
       "3  0xdac17f958d2ee523a2206206994597c13d831ec7                    0  \n",
       "4  0xb8901acb165ed027e32754e0ffe830802919727f  2005000000000000000  "
      ]
     },
     "execution_count": 23,
     "metadata": {},
     "output_type": "execute_result"
    }
   ],
   "source": [
    "pd.DataFrame(x).head()[['blockNumber','timeStamp','from','to','value']]"
   ]
  }
 ],
 "metadata": {
  "kernelspec": {
   "display_name": "base",
   "language": "python",
   "name": "python3"
  },
  "language_info": {
   "codemirror_mode": {
    "name": "ipython",
    "version": 3
   },
   "file_extension": ".py",
   "mimetype": "text/x-python",
   "name": "python",
   "nbconvert_exporter": "python",
   "pygments_lexer": "ipython3",
   "version": "3.9.12"
  },
  "orig_nbformat": 4
 },
 "nbformat": 4,
 "nbformat_minor": 2
}
